{
 "cells": [
  {
   "cell_type": "markdown",
   "metadata": {},
   "source": [
    "#### Normalized Cuts and Image Segmentation\n",
    "\n",
    "# Application à des images"
   ]
  },
  {
   "cell_type": "code",
   "execution_count": 1,
   "metadata": {},
   "outputs": [],
   "source": [
    "import numpy as np\n",
    "import matplotlib.pyplot as plt\n",
    "import scipy.linalg\n",
    "import scipy.spatial"
   ]
  },
  {
   "cell_type": "markdown",
   "metadata": {},
   "source": [
    "## Algorithme complet\n",
    "(voir *La séparation de deux Gaussiennes* pour le détail)"
   ]
  },
  {
   "cell_type": "code",
   "execution_count": 2,
   "metadata": {},
   "outputs": [],
   "source": [
    "def ncut(V, W):\n",
    "    \"\"\"\n",
    "    Applique l'algorithme de séparation en deux clusters pour un critère x < 0, x > 0\n",
    "    \"\"\"\n",
    "    d = np.sum(W, axis=0)\n",
    "    D = np.diag(d)\n",
    "    D_tmp = np.diag(d ** (-0.5))\n",
    "    M = D_tmp.dot(D - W).dot(D_tmp)\n",
    "    (eigen_values, eigen_vectors) = scipy.linalg.eig(M)\n",
    "    idx = (-eigen_values).argsort()[::-1]\n",
    "    eigen_values = eigen_values[idx]\n",
    "    eigen_vectors = eigen_vectors[:, idx]\n",
    "    x_temp = eigen_vectors[:, 1]\n",
    "    x = np.where(x_temp < 0, -1, 1)\n",
    "    A = V[np.where(x < 0)[0]]\n",
    "    B = V[np.where(x > 0)[0]]\n",
    "\n",
    "    return (A, B)"
   ]
  },
  {
   "cell_type": "markdown",
   "metadata": {},
   "source": [
    "## Création de graphes à partir d'images"
   ]
  },
  {
   "cell_type": "code",
   "execution_count": 3,
   "metadata": {},
   "outputs": [
    {
     "data": {
      "image/png": "[encoded data removed]",
      "text/plain": [
       "<Figure size 432x288 with 1 Axes>"
      ]
     },
     "metadata": {
      "needs_background": "light"
     },
     "output_type": "display_data"
    }
   ],
   "source": [
    "I = plt.imread(\"images/bandeVert.png\")\n",
    "I = 0.2989 * I[:, :, 0] + 0.5870 * I[:, :, 1] + 0.1140 * I[:, :, 2]\n",
    "plt.imshow(I, cmap=\"gray\")\n",
    "plt.show()"
   ]
  },
  {
   "cell_type": "code",
   "execution_count": 4,
   "metadata": {},
   "outputs": [],
   "source": [
    "(nx, ny) = I.shape\n",
    "mesh = np.meshgrid(np.linspace(0, nx - 1, nx), np.linspace(0, ny - 1, ny))\n",
    "V = np.array([mesh[0].ravel(), mesh[1].ravel()]).T"
   ]
  },
  {
   "cell_type": "markdown",
   "metadata": {},
   "source": [
    "On construit $W$ comme étant ici la différence de couleur entre les pixels, en ne prenant pas du tout en compte l'écart géométrique."
   ]
  },
  {
   "cell_type": "code",
   "execution_count": 5,
   "metadata": {},
   "outputs": [],
   "source": [
    "W_cond = scipy.spatial.distance.pdist(I.ravel().reshape(-1, 1))\n",
    "W = scipy.spatial.distance.squareform(W_cond)"
   ]
  },
  {
   "cell_type": "code",
   "execution_count": 6,
   "metadata": {},
   "outputs": [],
   "source": [
    "(A, B) = ncut(V, W)"
   ]
  },
  {
   "cell_type": "markdown",
   "metadata": {},
   "source": [
    "Si le résultat semble satisfaisant, il serait plus approprié de prendre une distance prenant en considération l'écart géométrique à coupler avec l'usage de **matrices creuses** afin de réduire drastiquement le temps de calcul qui est bien trop long actuellement.\n",
    "\n",
    "Comme annoncé dans l'article, on a ici une complexité en $O(N^3)$ qui pourrait être réduire à une complexité en $O(N)$."
   ]
  },
  {
   "cell_type": "code",
   "execution_count": 7,
   "metadata": {},
   "outputs": [
    {
     "data": {
      "text/plain": [
       "(200, 2)"
      ]
     },
     "execution_count": 7,
     "metadata": {},
     "output_type": "execute_result"
    }
   ],
   "source": [
    "A.shape"
   ]
  },
  {
   "cell_type": "code",
   "execution_count": 8,
   "metadata": {},
   "outputs": [
    {
     "data": {
      "image/png": "[encoded data removed]",
      "text/plain": [
       "<Figure size 432x288 with 1 Axes>"
      ]
     },
     "metadata": {
      "needs_background": "light"
     },
     "output_type": "display_data"
    }
   ],
   "source": [
    "plt.imshow(I, cmap=\"gray\")\n",
    "plt.scatter(A[:, 0], A[:, 1])\n",
    "plt.scatter(B[:, 0], B[:, 1])\n",
    "ax = plt.gca()  # pour obtenir l'objet 'ax' courant\n",
    "ax.set_aspect(\"equal\")  # cela ne peut se faire que sur l'axe\n",
    "plt.title(\"Segmentation\")\n",
    "# plt.savefig(\"camarchepas.png\")\n",
    "plt.show()"
   ]
  }
 ],
 "metadata": {
  "kernelspec": {
   "display_name": "Python 3",
   "language": "python",
   "name": "python3"
  },
  "language_info": {
   "codemirror_mode": {
    "name": "ipython",
    "version": 3
   },
   "file_extension": ".py",
   "mimetype": "text/x-python",
   "name": "python",
   "nbconvert_exporter": "python",
   "pygments_lexer": "ipython3",
   "version": "3.7.6"
  }
 },
 "nbformat": 4,
 "nbformat_minor": 2
}
