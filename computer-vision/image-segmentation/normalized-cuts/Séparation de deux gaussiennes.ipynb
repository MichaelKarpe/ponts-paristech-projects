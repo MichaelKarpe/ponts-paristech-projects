{
 "cells": [
  {
   "cell_type": "markdown",
   "metadata": {},
   "source": [
    "#### Normalized Cuts and Image Segmentation\n",
    "# Séparation de deux gaussiennes \n",
    "\n",
    "(première lecture de l'article)"
   ]
  },
  {
   "cell_type": "markdown",
   "metadata": {},
   "source": [
    "## Construction de graphes (sans images pour le moment)"
   ]
  },
  {
   "cell_type": "code",
   "execution_count": 1,
   "metadata": {},
   "outputs": [],
   "source": [
    "import numpy as np\n",
    "import matplotlib.pyplot as plt"
   ]
  },
  {
   "cell_type": "markdown",
   "metadata": {},
   "source": [
    "### Génération de deux ensembles de points (à partir de gaussiennes) à segmenter"
   ]
  },
  {
   "cell_type": "code",
   "execution_count": 2,
   "metadata": {},
   "outputs": [],
   "source": [
    "mean1 = (-1.5, 0.5)\n",
    "mean2 = (1.5, 0.5)\n",
    "cov1 = [[2, 0], [0, 4]]\n",
    "cov2 = [[1, 0], [0, 2]]\n",
    "nb = 400\n",
    "V1 = np.random.multivariate_normal(mean1, cov1, nb)\n",
    "V2 = np.random.multivariate_normal(mean2, cov2, nb)"
   ]
  },
  {
   "cell_type": "code",
   "execution_count": 3,
   "metadata": {},
   "outputs": [
    {
     "data": {
      "image/png": "[encoded data removed]",
      "text/plain": [
       "<Figure size 432x288 with 1 Axes>"
      ]
     },
     "metadata": {
      "needs_background": "light"
     },
     "output_type": "display_data"
    }
   ],
   "source": [
    "plt.scatter(V1[:, 0], V1[:, 1])\n",
    "plt.scatter(V2[:, 0], V2[:, 1])\n",
    "ax = plt.gca()  # pour obtenir l'objet 'ax' courant\n",
    "ax.set_aspect(\"equal\")  # cela ne peut se faire que sur l'axe\n",
    "plt.show()"
   ]
  },
  {
   "cell_type": "markdown",
   "metadata": {},
   "source": [
    "Fusionnons ces deux ensembles (sinon c'est très simple de les séparer)"
   ]
  },
  {
   "cell_type": "code",
   "execution_count": 4,
   "metadata": {},
   "outputs": [],
   "source": [
    "V = np.concatenate([V1, V2])"
   ]
  },
  {
   "cell_type": "markdown",
   "metadata": {},
   "source": [
    "### Création de la matrice de poids\n",
    "\n",
    "Création de la matrice des poids, choisis comme étant inversement proportionnels à la distance entre deux points.\n",
    "\n",
    "On utilise pour cela la fonction `pdist` de `scipy.spatial.distance` qui calcule les distances paire à paire. Le résultat est une forme condensée de la matrice (uniquement les coefficients diagonaux supérieurs, pour éviter la redonance) : on utilise alors la fonction `squareform` pour récupérer la matrice carrée diagonale associée."
   ]
  },
  {
   "cell_type": "code",
   "execution_count": 5,
   "metadata": {},
   "outputs": [],
   "source": [
    "import scipy.spatial.distance"
   ]
  },
  {
   "cell_type": "code",
   "execution_count": 6,
   "metadata": {},
   "outputs": [],
   "source": [
    "W_cond = scipy.spatial.distance.pdist(V)\n",
    "W = scipy.spatial.distance.squareform(W_cond)\n",
    "W = np.divide(1, W, out=np.zeros_like(W), where=W != 0)  # les termes diagonaux valent 0"
   ]
  },
  {
   "cell_type": "markdown",
   "metadata": {},
   "source": [
    "## Algorithme de séparation"
   ]
  },
  {
   "cell_type": "markdown",
   "metadata": {},
   "source": [
    "### Création de la matrice D"
   ]
  },
  {
   "cell_type": "markdown",
   "metadata": {},
   "source": [
    "$D$ est une matrice diagonale avec pour coefficients : $d(i, i) = \\sum_j w(i, j)$"
   ]
  },
  {
   "cell_type": "code",
   "execution_count": 7,
   "metadata": {},
   "outputs": [],
   "source": [
    "d = np.sum(W, axis=0)\n",
    "D = np.diag(d)"
   ]
  },
  {
   "cell_type": "markdown",
   "metadata": {},
   "source": [
    "### Résolution du problème aux valeurs propres"
   ]
  },
  {
   "cell_type": "code",
   "execution_count": 8,
   "metadata": {},
   "outputs": [],
   "source": [
    "import scipy.linalg"
   ]
  },
  {
   "cell_type": "markdown",
   "metadata": {},
   "source": [
    "On calcule `D_tmp` $= D^{-1/2}$ qui s'écrit comme suit, étant donné que $D$ est diagonale :"
   ]
  },
  {
   "cell_type": "code",
   "execution_count": 9,
   "metadata": {},
   "outputs": [],
   "source": [
    "D_tmp = np.diag(d ** (-0.5))"
   ]
  },
  {
   "cell_type": "markdown",
   "metadata": {},
   "source": [
    "On note $M$ la matrice intermédiaire dont on cherche à résoudre le problème aux valeurs propres"
   ]
  },
  {
   "cell_type": "code",
   "execution_count": 10,
   "metadata": {},
   "outputs": [],
   "source": [
    "M = D_tmp.dot(D - W).dot(D_tmp)\n",
    "(eigen_values, eigen_vectors) = scipy.linalg.eig(M)"
   ]
  },
  {
   "cell_type": "markdown",
   "metadata": {},
   "source": [
    "Les valeurs propres ne sont pas ordonnées :'( \n",
    "\n",
    "On ordonne de la plus faible à la plus grande"
   ]
  },
  {
   "cell_type": "code",
   "execution_count": 11,
   "metadata": {},
   "outputs": [],
   "source": [
    "idx = (-eigen_values).argsort()[::-1]\n",
    "eigen_values = eigen_values[idx]\n",
    "eigen_vectors = eigen_vectors[:, idx]"
   ]
  },
  {
   "cell_type": "markdown",
   "metadata": {},
   "source": [
    "## Construction de $x$"
   ]
  },
  {
   "cell_type": "code",
   "execution_count": 12,
   "metadata": {},
   "outputs": [
    {
     "data": {
      "image/png": "[encoded data removed]",
      "text/plain": [
       "<Figure size 432x288 with 1 Axes>"
      ]
     },
     "metadata": {
      "needs_background": "light"
     },
     "output_type": "display_data"
    }
   ],
   "source": [
    "plt.plot(np.real(eigen_values)[:20])\n",
    "plt.title(\"20 premières valeurs propres de M\")\n",
    "plt.xlabel(\"eigenvector\")\n",
    "plt.ylabel(\"eigenvalue\")\n",
    "plt.show()"
   ]
  },
  {
   "cell_type": "code",
   "execution_count": 13,
   "metadata": {},
   "outputs": [],
   "source": [
    "x_temp = eigen_vectors[:, 1]"
   ]
  },
  {
   "cell_type": "markdown",
   "metadata": {},
   "source": [
    "### Solution 1 : 0 comme séparateur"
   ]
  },
  {
   "cell_type": "code",
   "execution_count": 14,
   "metadata": {},
   "outputs": [],
   "source": [
    "x = np.where(x_temp < 0, -1, 1)"
   ]
  },
  {
   "cell_type": "markdown",
   "metadata": {},
   "source": [
    "## Création de A et B"
   ]
  },
  {
   "cell_type": "code",
   "execution_count": 15,
   "metadata": {},
   "outputs": [],
   "source": [
    "A = V[np.where(x < 0)[0]]\n",
    "B = V[np.where(x > 0)[0]]"
   ]
  },
  {
   "cell_type": "code",
   "execution_count": 16,
   "metadata": {},
   "outputs": [
    {
     "data": {
      "image/png": "[encoded data removed]",
      "text/plain": [
       "<Figure size 432x288 with 2 Axes>"
      ]
     },
     "metadata": {
      "needs_background": "light"
     },
     "output_type": "display_data"
    }
   ],
   "source": [
    "plt.figure()\n",
    "\n",
    "plt.subplot(1, 2, 1)\n",
    "plt.scatter(V1[:, 0], V1[:, 1])\n",
    "plt.scatter(V2[:, 0], V2[:, 1])\n",
    "ax = plt.gca()  # pour obtenir l'objet 'ax' courant\n",
    "ax.set_aspect(\"equal\")  # cela ne peut se faire que sur l'axe\n",
    "plt.title(\"Découpage original\")\n",
    "\n",
    "plt.subplot(1, 2, 2)\n",
    "plt.scatter(A[:, 0], A[:, 1])\n",
    "plt.scatter(B[:, 0], B[:, 1])\n",
    "ax = plt.gca()  # pour obtenir l'objet 'ax' courant\n",
    "ax.set_aspect(\"equal\")  # cela ne peut se faire que sur l'axe\n",
    "plt.title(\"Segmentation\")\n",
    "\n",
    "# plt.savefig(\"PremiersResultats.png\")\n",
    "plt.show()"
   ]
  },
  {
   "cell_type": "code",
   "execution_count": 17,
   "metadata": {},
   "outputs": [
    {
     "data": {
      "text/plain": [
       "(445,)"
      ]
     },
     "execution_count": 17,
     "metadata": {},
     "output_type": "execute_result"
    }
   ],
   "source": [
    "np.where(x < 0)[0].shape"
   ]
  }
 ],
 "metadata": {
  "kernelspec": {
   "display_name": "Python 3",
   "language": "python",
   "name": "python3"
  },
  "language_info": {
   "codemirror_mode": {
    "name": "ipython",
    "version": 3
   },
   "file_extension": ".py",
   "mimetype": "text/x-python",
   "name": "python",
   "nbconvert_exporter": "python",
   "pygments_lexer": "ipython3",
   "version": "3.7.6"
  }
 },
 "nbformat": 4,
 "nbformat_minor": 2
}
